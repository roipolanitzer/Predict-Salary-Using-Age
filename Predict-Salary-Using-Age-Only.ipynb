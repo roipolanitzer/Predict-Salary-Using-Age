{
 "cells": [
  {
   "cell_type": "code",
   "execution_count": 1,
   "metadata": {},
   "outputs": [],
   "source": [
    "import operator\n",
    "import numpy as np\n",
    "import statsmodels.api as sm\n",
    "from statsmodels import regression\n",
    "from sklearn.linear_model import LinearRegression\n",
    "from sklearn.preprocessing import PolynomialFeatures\n",
    "import matplotlib.pyplot as plt\n",
    "import pandas as pd\n",
    "import seaborn as sb\n",
    "from sklearn.metrics import mean_squared_error\n",
    "%matplotlib inline"
   ]
  },
  {
   "cell_type": "code",
   "execution_count": 2,
   "metadata": {},
   "outputs": [
    {
     "data": {
      "text/html": [
       "<div>\n",
       "<style scoped>\n",
       "    .dataframe tbody tr th:only-of-type {\n",
       "        vertical-align: middle;\n",
       "    }\n",
       "\n",
       "    .dataframe tbody tr th {\n",
       "        vertical-align: top;\n",
       "    }\n",
       "\n",
       "    .dataframe thead th {\n",
       "        text-align: right;\n",
       "    }\n",
       "</style>\n",
       "<table border=\"1\" class=\"dataframe\">\n",
       "  <thead>\n",
       "    <tr style=\"text-align: right;\">\n",
       "      <th></th>\n",
       "      <th>Salary</th>\n",
       "      <th>Age</th>\n",
       "    </tr>\n",
       "  </thead>\n",
       "  <tbody>\n",
       "    <tr>\n",
       "      <th>0</th>\n",
       "      <td>135000</td>\n",
       "      <td>25</td>\n",
       "    </tr>\n",
       "    <tr>\n",
       "      <th>1</th>\n",
       "      <td>260000</td>\n",
       "      <td>55</td>\n",
       "    </tr>\n",
       "    <tr>\n",
       "      <th>2</th>\n",
       "      <td>105000</td>\n",
       "      <td>27</td>\n",
       "    </tr>\n",
       "    <tr>\n",
       "      <th>3</th>\n",
       "      <td>220000</td>\n",
       "      <td>35</td>\n",
       "    </tr>\n",
       "    <tr>\n",
       "      <th>4</th>\n",
       "      <td>240000</td>\n",
       "      <td>60</td>\n",
       "    </tr>\n",
       "    <tr>\n",
       "      <th>5</th>\n",
       "      <td>265000</td>\n",
       "      <td>65</td>\n",
       "    </tr>\n",
       "    <tr>\n",
       "      <th>6</th>\n",
       "      <td>270000</td>\n",
       "      <td>45</td>\n",
       "    </tr>\n",
       "    <tr>\n",
       "      <th>7</th>\n",
       "      <td>300000</td>\n",
       "      <td>40</td>\n",
       "    </tr>\n",
       "    <tr>\n",
       "      <th>8</th>\n",
       "      <td>265000</td>\n",
       "      <td>50</td>\n",
       "    </tr>\n",
       "    <tr>\n",
       "      <th>9</th>\n",
       "      <td>105000</td>\n",
       "      <td>30</td>\n",
       "    </tr>\n",
       "  </tbody>\n",
       "</table>\n",
       "</div>"
      ],
      "text/plain": [
       "   Salary  Age\n",
       "0  135000   25\n",
       "1  260000   55\n",
       "2  105000   27\n",
       "3  220000   35\n",
       "4  240000   60\n",
       "5  265000   65\n",
       "6  270000   45\n",
       "7  300000   40\n",
       "8  265000   50\n",
       "9  105000   30"
      ]
     },
     "execution_count": 2,
     "metadata": {},
     "output_type": "execute_result"
    }
   ],
   "source": [
    "df1 = pd.DataFrame ({'Salary': [135000, 260000, 105000, 220000, 240000, 265000, 270000, 300000, 265000, 105000],\n",
    "                     'Age': [25,55,27,35,60,65,45,40,50,30]})\n",
    "df1"
   ]
  },
  {
   "cell_type": "code",
   "execution_count": 3,
   "metadata": {},
   "outputs": [],
   "source": [
    "X = df1.loc[: , df1.columns == 'Age']"
   ]
  },
  {
   "cell_type": "code",
   "execution_count": 4,
   "metadata": {},
   "outputs": [],
   "source": [
    "X1 = df1.loc[: , df1.columns != 'Salary']\n",
    "y1 = df1.loc[: , df1.columns == 'Salary']"
   ]
  },
  {
   "cell_type": "code",
   "execution_count": 5,
   "metadata": {},
   "outputs": [
    {
     "data": {
      "text/plain": [
       "<matplotlib.collections.PathCollection at 0x1d353087788>"
      ]
     },
     "execution_count": 5,
     "metadata": {},
     "output_type": "execute_result"
    },
    {
     "data": {
      "image/png": "[encoded data removed]",
      "text/plain": [
       "<Figure size 432x288 with 1 Axes>"
      ]
     },
     "metadata": {
      "needs_background": "light"
     },
     "output_type": "display_data"
    }
   ],
   "source": [
    "plt.scatter(X1,y1, color='blue')"
   ]
  },
  {
   "cell_type": "markdown",
   "metadata": {},
   "source": [
    "# Linear Regression (Polynomial of degree 1)"
   ]
  },
  {
   "cell_type": "markdown",
   "metadata": {},
   "source": [
    "## Train the model"
   ]
  },
  {
   "cell_type": "code",
   "execution_count": 6,
   "metadata": {},
   "outputs": [
    {
     "name": "stdout",
     "output_type": "stream",
     "text": [
      "                            OLS Regression Results                            \n",
      "==============================================================================\n",
      "Dep. Variable:                 Salary   R-squared:                       0.541\n",
      "Model:                            OLS   Adj. R-squared:                  0.484\n",
      "Method:                 Least Squares   F-statistic:                     9.432\n",
      "Date:                Sun, 31 May 2020   Prob (F-statistic):             0.0153\n",
      "Time:                        23:49:19   Log-Likelihood:                -121.81\n",
      "No. Observations:                  10   AIC:                             247.6\n",
      "Df Residuals:                       8   BIC:                             248.2\n",
      "Df Model:                           1                                         \n",
      "Covariance Type:            nonrobust                                         \n",
      "==============================================================================\n",
      "                 coef    std err          t      P>|t|      [0.025      0.975]\n",
      "------------------------------------------------------------------------------\n",
      "const       5.116e+04   5.64e+04      0.908      0.391   -7.88e+04    1.81e+05\n",
      "Age         3827.3052   1246.189      3.071      0.015     953.587    6701.023\n",
      "==============================================================================\n",
      "Omnibus:                        0.932   Durbin-Watson:                   1.648\n",
      "Prob(Omnibus):                  0.628   Jarque-Bera (JB):                0.692\n",
      "Skew:                           0.545   Prob(JB):                        0.708\n",
      "Kurtosis:                       2.313   Cond. No.                         153.\n",
      "==============================================================================\n",
      "\n",
      "Warnings:\n",
      "[1] Standard Errors assume that the covariance matrix of the errors is correctly specified.\n"
     ]
    },
    {
     "name": "stderr",
     "output_type": "stream",
     "text": [
      "C:\\ProgramData\\Anaconda3\\lib\\site-packages\\numpy\\core\\fromnumeric.py:2542: FutureWarning: Method .ptp is deprecated and will be removed in a future version. Use numpy.ptp instead.\n",
      "  return ptp(axis=axis, out=out, **kwargs)\n",
      "C:\\ProgramData\\Anaconda3\\lib\\site-packages\\scipy\\stats\\stats.py:1450: UserWarning: kurtosistest only valid for n>=20 ... continuing anyway, n=10\n",
      "  \"anyway, n=%i\" % int(n))\n"
     ]
    }
   ],
   "source": [
    "X11 = sm.add_constant(X1)\n",
    "model = sm.OLS(y1,X11)\n",
    "result= model.fit()\n",
    "print(result.summary())"
   ]
  },
  {
   "cell_type": "code",
   "execution_count": 7,
   "metadata": {},
   "outputs": [
    {
     "data": {
      "text/html": [
       "<div>\n",
       "<style scoped>\n",
       "    .dataframe tbody tr th:only-of-type {\n",
       "        vertical-align: middle;\n",
       "    }\n",
       "\n",
       "    .dataframe tbody tr th {\n",
       "        vertical-align: top;\n",
       "    }\n",
       "\n",
       "    .dataframe thead th {\n",
       "        text-align: right;\n",
       "    }\n",
       "</style>\n",
       "<table border=\"1\" class=\"dataframe\">\n",
       "  <thead>\n",
       "    <tr style=\"text-align: right;\">\n",
       "      <th></th>\n",
       "      <th>Parameters</th>\n",
       "    </tr>\n",
       "  </thead>\n",
       "  <tbody>\n",
       "    <tr>\n",
       "      <th>const</th>\n",
       "      <td>51160.415271</td>\n",
       "    </tr>\n",
       "    <tr>\n",
       "      <th>Age</th>\n",
       "      <td>3827.305202</td>\n",
       "    </tr>\n",
       "  </tbody>\n",
       "</table>\n",
       "</div>"
      ],
      "text/plain": [
       "         Parameters\n",
       "const  51160.415271\n",
       "Age     3827.305202"
      ]
     },
     "execution_count": 7,
     "metadata": {},
     "output_type": "execute_result"
    }
   ],
   "source": [
    "Parameters = pd.DataFrame(result.params,columns={'Parameters'},)\n",
    "Parameters"
   ]
  },
  {
   "cell_type": "code",
   "execution_count": 8,
   "metadata": {},
   "outputs": [],
   "source": [
    "a = round(float(Parameters.iloc[0]),2)\n",
    "b = round(float(Parameters.iloc[1]),2)"
   ]
  },
  {
   "cell_type": "code",
   "execution_count": 9,
   "metadata": {},
   "outputs": [
    {
     "name": "stdout",
     "output_type": "stream",
     "text": [
      "The equation is: Salary = 51160.42 + 3827.31 * Age\n"
     ]
    }
   ],
   "source": [
    "print(\"The equation is: Salary =\",a,\"+\",b,\"* Age\" )"
   ]
  },
  {
   "cell_type": "code",
   "execution_count": 10,
   "metadata": {},
   "outputs": [],
   "source": [
    "lr = LinearRegression()\n",
    "X1= np.array(X1).reshape(-1,1)\n",
    "lr_model1 = lr.fit(X1,y1)"
   ]
  },
  {
   "cell_type": "markdown",
   "metadata": {},
   "source": [
    "## Prediction"
   ]
  },
  {
   "cell_type": "code",
   "execution_count": 11,
   "metadata": {},
   "outputs": [],
   "source": [
    "y1_pred = lr_model1.predict(X1)"
   ]
  },
  {
   "cell_type": "code",
   "execution_count": 12,
   "metadata": {},
   "outputs": [
    {
     "data": {
      "image/png": "[encoded data removed]",
      "text/plain": [
       "<Figure size 432x288 with 1 Axes>"
      ]
     },
     "metadata": {
      "needs_background": "light"
     },
     "output_type": "display_data"
    }
   ],
   "source": [
    "import numpy\n",
    "import matplotlib.pyplot as plt\n",
    "mymodel = numpy.poly1d(numpy.polyfit(df1.Age, df1.Salary, 1))\n",
    "myline = numpy.linspace(25, 65, 100)\n",
    "plt.scatter(df1.Age, df1.Salary, color='blue')\n",
    "plt.plot(myline, mymodel(myline),color='red',linewidth = 3.0)\n",
    "plt.show()"
   ]
  },
  {
   "cell_type": "markdown",
   "metadata": {},
   "source": [
    "## Conclusion"
   ]
  },
  {
   "cell_type": "code",
   "execution_count": 13,
   "metadata": {},
   "outputs": [
    {
     "name": "stdout",
     "output_type": "stream",
     "text": [
      "R squared of linear regression: 54.11%\n",
      "RMSE of linear regression: 47,179.09\n"
     ]
    }
   ],
   "source": [
    "rsqu1=lr.score(X1,y1)\n",
    "print(\"R squared of linear regression:\", \"{:.2%}\".format(rsqu1))\n",
    "rmse1=np.sqrt(mean_squared_error(y1,y1_pred))\n",
    "print(\"RMSE of linear regression:\", \"{:,.2f}\".format(rmse1))"
   ]
  },
  {
   "cell_type": "markdown",
   "metadata": {},
   "source": [
    "# Polynomial of degree 2"
   ]
  },
  {
   "cell_type": "code",
   "execution_count": 14,
   "metadata": {},
   "outputs": [
    {
     "data": {
      "text/html": [
       "<div>\n",
       "<style scoped>\n",
       "    .dataframe tbody tr th:only-of-type {\n",
       "        vertical-align: middle;\n",
       "    }\n",
       "\n",
       "    .dataframe tbody tr th {\n",
       "        vertical-align: top;\n",
       "    }\n",
       "\n",
       "    .dataframe thead th {\n",
       "        text-align: right;\n",
       "    }\n",
       "</style>\n",
       "<table border=\"1\" class=\"dataframe\">\n",
       "  <thead>\n",
       "    <tr style=\"text-align: right;\">\n",
       "      <th></th>\n",
       "      <th>Salary</th>\n",
       "      <th>Age</th>\n",
       "      <th>Age^2</th>\n",
       "    </tr>\n",
       "  </thead>\n",
       "  <tbody>\n",
       "    <tr>\n",
       "      <th>0</th>\n",
       "      <td>135000</td>\n",
       "      <td>25</td>\n",
       "      <td>625</td>\n",
       "    </tr>\n",
       "    <tr>\n",
       "      <th>1</th>\n",
       "      <td>260000</td>\n",
       "      <td>55</td>\n",
       "      <td>3025</td>\n",
       "    </tr>\n",
       "    <tr>\n",
       "      <th>2</th>\n",
       "      <td>105000</td>\n",
       "      <td>27</td>\n",
       "      <td>729</td>\n",
       "    </tr>\n",
       "    <tr>\n",
       "      <th>3</th>\n",
       "      <td>220000</td>\n",
       "      <td>35</td>\n",
       "      <td>1225</td>\n",
       "    </tr>\n",
       "    <tr>\n",
       "      <th>4</th>\n",
       "      <td>240000</td>\n",
       "      <td>60</td>\n",
       "      <td>3600</td>\n",
       "    </tr>\n",
       "    <tr>\n",
       "      <th>5</th>\n",
       "      <td>265000</td>\n",
       "      <td>65</td>\n",
       "      <td>4225</td>\n",
       "    </tr>\n",
       "    <tr>\n",
       "      <th>6</th>\n",
       "      <td>270000</td>\n",
       "      <td>45</td>\n",
       "      <td>2025</td>\n",
       "    </tr>\n",
       "    <tr>\n",
       "      <th>7</th>\n",
       "      <td>300000</td>\n",
       "      <td>40</td>\n",
       "      <td>1600</td>\n",
       "    </tr>\n",
       "    <tr>\n",
       "      <th>8</th>\n",
       "      <td>265000</td>\n",
       "      <td>50</td>\n",
       "      <td>2500</td>\n",
       "    </tr>\n",
       "    <tr>\n",
       "      <th>9</th>\n",
       "      <td>105000</td>\n",
       "      <td>30</td>\n",
       "      <td>900</td>\n",
       "    </tr>\n",
       "  </tbody>\n",
       "</table>\n",
       "</div>"
      ],
      "text/plain": [
       "   Salary  Age  Age^2\n",
       "0  135000   25    625\n",
       "1  260000   55   3025\n",
       "2  105000   27    729\n",
       "3  220000   35   1225\n",
       "4  240000   60   3600\n",
       "5  265000   65   4225\n",
       "6  270000   45   2025\n",
       "7  300000   40   1600\n",
       "8  265000   50   2500\n",
       "9  105000   30    900"
      ]
     },
     "execution_count": 14,
     "metadata": {},
     "output_type": "execute_result"
    }
   ],
   "source": [
    "df1['Age^2']=df1['Age']**2\n",
    "df2 = pd.DataFrame({'Salary': df1.Salary, 'Age': df1.Age, 'Age^2' : df1['Age^2']})\n",
    "df2"
   ]
  },
  {
   "cell_type": "code",
   "execution_count": 15,
   "metadata": {},
   "outputs": [],
   "source": [
    "X2 = df2.loc[: , df2.columns != 'Salary']\n",
    "y2 = df2.loc[: , df2.columns == 'Salary']"
   ]
  },
  {
   "cell_type": "markdown",
   "metadata": {},
   "source": [
    "## Train the model"
   ]
  },
  {
   "cell_type": "code",
   "execution_count": 16,
   "metadata": {},
   "outputs": [
    {
     "name": "stdout",
     "output_type": "stream",
     "text": [
      "                            OLS Regression Results                            \n",
      "==============================================================================\n",
      "Dep. Variable:                 Salary   R-squared:                       0.799\n",
      "Model:                            OLS   Adj. R-squared:                  0.741\n",
      "Method:                 Least Squares   F-statistic:                     13.89\n",
      "Date:                Sun, 31 May 2020   Prob (F-statistic):            0.00366\n",
      "Time:                        23:49:20   Log-Likelihood:                -117.68\n",
      "No. Observations:                  10   AIC:                             241.4\n",
      "Df Residuals:                       7   BIC:                             242.3\n",
      "Df Model:                           2                                         \n",
      "Covariance Type:            nonrobust                                         \n",
      "==============================================================================\n",
      "                 coef    std err          t      P>|t|      [0.025      0.975]\n",
      "------------------------------------------------------------------------------\n",
      "const      -3.822e+05    1.5e+05     -2.545      0.038   -7.37e+05   -2.71e+04\n",
      "Age         2.538e+04   7251.933      3.499      0.010    8229.070    4.25e+04\n",
      "Age^2       -243.2886     81.263     -2.994      0.020    -435.445     -51.132\n",
      "==============================================================================\n",
      "Omnibus:                        0.055   Durbin-Watson:                   1.810\n",
      "Prob(Omnibus):                  0.973   Jarque-Bera (JB):                0.230\n",
      "Skew:                           0.130   Prob(JB):                        0.891\n",
      "Kurtosis:                       2.303   Cond. No.                     3.02e+04\n",
      "==============================================================================\n",
      "\n",
      "Warnings:\n",
      "[1] Standard Errors assume that the covariance matrix of the errors is correctly specified.\n",
      "[2] The condition number is large, 3.02e+04. This might indicate that there are\n",
      "strong multicollinearity or other numerical problems.\n"
     ]
    },
    {
     "name": "stderr",
     "output_type": "stream",
     "text": [
      "C:\\ProgramData\\Anaconda3\\lib\\site-packages\\numpy\\core\\fromnumeric.py:2542: FutureWarning: Method .ptp is deprecated and will be removed in a future version. Use numpy.ptp instead.\n",
      "  return ptp(axis=axis, out=out, **kwargs)\n",
      "C:\\ProgramData\\Anaconda3\\lib\\site-packages\\scipy\\stats\\stats.py:1450: UserWarning: kurtosistest only valid for n>=20 ... continuing anyway, n=10\n",
      "  \"anyway, n=%i\" % int(n))\n"
     ]
    }
   ],
   "source": [
    "X21 = sm.add_constant(X2)\n",
    "model = sm.OLS(y2,X21)\n",
    "result= model.fit()\n",
    "print(result.summary())"
   ]
  },
  {
   "cell_type": "code",
   "execution_count": 17,
   "metadata": {},
   "outputs": [
    {
     "data": {
      "text/html": [
       "<div>\n",
       "<style scoped>\n",
       "    .dataframe tbody tr th:only-of-type {\n",
       "        vertical-align: middle;\n",
       "    }\n",
       "\n",
       "    .dataframe tbody tr th {\n",
       "        vertical-align: top;\n",
       "    }\n",
       "\n",
       "    .dataframe thead th {\n",
       "        text-align: right;\n",
       "    }\n",
       "</style>\n",
       "<table border=\"1\" class=\"dataframe\">\n",
       "  <thead>\n",
       "    <tr style=\"text-align: right;\">\n",
       "      <th></th>\n",
       "      <th>Parameters</th>\n",
       "    </tr>\n",
       "  </thead>\n",
       "  <tbody>\n",
       "    <tr>\n",
       "      <th>const</th>\n",
       "      <td>-382171.111545</td>\n",
       "    </tr>\n",
       "    <tr>\n",
       "      <th>Age</th>\n",
       "      <td>25377.166571</td>\n",
       "    </tr>\n",
       "    <tr>\n",
       "      <th>Age^2</th>\n",
       "      <td>-243.288591</td>\n",
       "    </tr>\n",
       "  </tbody>\n",
       "</table>\n",
       "</div>"
      ],
      "text/plain": [
       "          Parameters\n",
       "const -382171.111545\n",
       "Age     25377.166571\n",
       "Age^2    -243.288591"
      ]
     },
     "execution_count": 17,
     "metadata": {},
     "output_type": "execute_result"
    }
   ],
   "source": [
    "Parameters = pd.DataFrame(result.params,columns={'Parameters'},)\n",
    "Parameters"
   ]
  },
  {
   "cell_type": "code",
   "execution_count": 18,
   "metadata": {},
   "outputs": [],
   "source": [
    "a = round(float(Parameters.iloc[0]),2)\n",
    "b = round(float(Parameters.iloc[1]),2)\n",
    "c = round(float(Parameters.iloc[2]),2)"
   ]
  },
  {
   "cell_type": "code",
   "execution_count": 19,
   "metadata": {},
   "outputs": [
    {
     "name": "stdout",
     "output_type": "stream",
     "text": [
      "The equation is: Salary = -382171.11 + 25377.17 * Age + -243.29 * Age^2\n"
     ]
    }
   ],
   "source": [
    "print(\"The equation is: Salary =\",a,\"+\",b,\"* Age +\",c,\"* Age^2\")"
   ]
  },
  {
   "cell_type": "code",
   "execution_count": 20,
   "metadata": {},
   "outputs": [],
   "source": [
    "X2 = df2.loc[: , df2.columns != 'Salary']\n",
    "X2= np.array(X2)\n",
    "lr_model2 = lr.fit(X2,y2)"
   ]
  },
  {
   "cell_type": "markdown",
   "metadata": {},
   "source": [
    "## Prediction"
   ]
  },
  {
   "cell_type": "code",
   "execution_count": 21,
   "metadata": {},
   "outputs": [],
   "source": [
    "y2_pred = lr_model2.predict(X2)"
   ]
  },
  {
   "cell_type": "code",
   "execution_count": 22,
   "metadata": {},
   "outputs": [
    {
     "data": {
      "image/png": "[encoded data removed]",
      "text/plain": [
       "<Figure size 432x288 with 1 Axes>"
      ]
     },
     "metadata": {
      "needs_background": "light"
     },
     "output_type": "display_data"
    }
   ],
   "source": [
    "import numpy\n",
    "import matplotlib.pyplot as plt\n",
    "mymodel = numpy.poly1d(numpy.polyfit(df1.Age, df1.Salary, 2))\n",
    "myline = numpy.linspace(25, 65, 100)\n",
    "plt.scatter(df1.Age, df1.Salary, color='blue')\n",
    "plt.plot(myline, mymodel(myline),color='red',linewidth = 3.0)\n",
    "plt.show()"
   ]
  },
  {
   "cell_type": "markdown",
   "metadata": {},
   "source": [
    "## Conclusion"
   ]
  },
  {
   "cell_type": "code",
   "execution_count": 23,
   "metadata": {},
   "outputs": [
    {
     "name": "stdout",
     "output_type": "stream",
     "text": [
      "R squared of polynomial of degree 2: 79.88%\n",
      "RMSE of polynomial of degree 2: 31,242.12\n"
     ]
    }
   ],
   "source": [
    "rsqu2=lr.score(X2,y2)\n",
    "print(\"R squared of polynomial of degree 2:\", \"{:.2%}\".format(rsqu2))\n",
    "rmse2=np.sqrt(mean_squared_error(y2,y2_pred))\n",
    "print(\"RMSE of polynomial of degree 2:\", \"{:,.2f}\".format(rmse2))"
   ]
  },
  {
   "cell_type": "markdown",
   "metadata": {},
   "source": [
    "# Polynomial of degree 3"
   ]
  },
  {
   "cell_type": "code",
   "execution_count": 24,
   "metadata": {},
   "outputs": [
    {
     "data": {
      "text/html": [
       "<div>\n",
       "<style scoped>\n",
       "    .dataframe tbody tr th:only-of-type {\n",
       "        vertical-align: middle;\n",
       "    }\n",
       "\n",
       "    .dataframe tbody tr th {\n",
       "        vertical-align: top;\n",
       "    }\n",
       "\n",
       "    .dataframe thead th {\n",
       "        text-align: right;\n",
       "    }\n",
       "</style>\n",
       "<table border=\"1\" class=\"dataframe\">\n",
       "  <thead>\n",
       "    <tr style=\"text-align: right;\">\n",
       "      <th></th>\n",
       "      <th>Salary</th>\n",
       "      <th>Age</th>\n",
       "      <th>Age^2</th>\n",
       "      <th>Age^3</th>\n",
       "    </tr>\n",
       "  </thead>\n",
       "  <tbody>\n",
       "    <tr>\n",
       "      <th>0</th>\n",
       "      <td>135000</td>\n",
       "      <td>25</td>\n",
       "      <td>625</td>\n",
       "      <td>15625</td>\n",
       "    </tr>\n",
       "    <tr>\n",
       "      <th>1</th>\n",
       "      <td>260000</td>\n",
       "      <td>55</td>\n",
       "      <td>3025</td>\n",
       "      <td>166375</td>\n",
       "    </tr>\n",
       "    <tr>\n",
       "      <th>2</th>\n",
       "      <td>105000</td>\n",
       "      <td>27</td>\n",
       "      <td>729</td>\n",
       "      <td>19683</td>\n",
       "    </tr>\n",
       "    <tr>\n",
       "      <th>3</th>\n",
       "      <td>220000</td>\n",
       "      <td>35</td>\n",
       "      <td>1225</td>\n",
       "      <td>42875</td>\n",
       "    </tr>\n",
       "    <tr>\n",
       "      <th>4</th>\n",
       "      <td>240000</td>\n",
       "      <td>60</td>\n",
       "      <td>3600</td>\n",
       "      <td>216000</td>\n",
       "    </tr>\n",
       "    <tr>\n",
       "      <th>5</th>\n",
       "      <td>265000</td>\n",
       "      <td>65</td>\n",
       "      <td>4225</td>\n",
       "      <td>274625</td>\n",
       "    </tr>\n",
       "    <tr>\n",
       "      <th>6</th>\n",
       "      <td>270000</td>\n",
       "      <td>45</td>\n",
       "      <td>2025</td>\n",
       "      <td>91125</td>\n",
       "    </tr>\n",
       "    <tr>\n",
       "      <th>7</th>\n",
       "      <td>300000</td>\n",
       "      <td>40</td>\n",
       "      <td>1600</td>\n",
       "      <td>64000</td>\n",
       "    </tr>\n",
       "    <tr>\n",
       "      <th>8</th>\n",
       "      <td>265000</td>\n",
       "      <td>50</td>\n",
       "      <td>2500</td>\n",
       "      <td>125000</td>\n",
       "    </tr>\n",
       "    <tr>\n",
       "      <th>9</th>\n",
       "      <td>105000</td>\n",
       "      <td>30</td>\n",
       "      <td>900</td>\n",
       "      <td>27000</td>\n",
       "    </tr>\n",
       "  </tbody>\n",
       "</table>\n",
       "</div>"
      ],
      "text/plain": [
       "   Salary  Age  Age^2   Age^3\n",
       "0  135000   25    625   15625\n",
       "1  260000   55   3025  166375\n",
       "2  105000   27    729   19683\n",
       "3  220000   35   1225   42875\n",
       "4  240000   60   3600  216000\n",
       "5  265000   65   4225  274625\n",
       "6  270000   45   2025   91125\n",
       "7  300000   40   1600   64000\n",
       "8  265000   50   2500  125000\n",
       "9  105000   30    900   27000"
      ]
     },
     "execution_count": 24,
     "metadata": {},
     "output_type": "execute_result"
    }
   ],
   "source": [
    "df2['Age^3']=df2['Age']**3\n",
    "df3 = pd.DataFrame({'Salary': df2.Salary, 'Age': df2.Age, 'Age^2' : df2['Age^2'], 'Age^3' : df2['Age^3']})\n",
    "df3"
   ]
  },
  {
   "cell_type": "code",
   "execution_count": 25,
   "metadata": {},
   "outputs": [],
   "source": [
    "X3 = df3.loc[: , df3.columns != 'Salary']\n",
    "y3 = df3.loc[: , df3.columns == 'Salary']"
   ]
  },
  {
   "cell_type": "markdown",
   "metadata": {},
   "source": [
    "## Train the model"
   ]
  },
  {
   "cell_type": "code",
   "execution_count": 26,
   "metadata": {},
   "outputs": [
    {
     "name": "stdout",
     "output_type": "stream",
     "text": [
      "                            OLS Regression Results                            \n",
      "==============================================================================\n",
      "Dep. Variable:                 Salary   R-squared:                       0.810\n",
      "Model:                            OLS   Adj. R-squared:                  0.715\n",
      "Method:                 Least Squares   F-statistic:                     8.533\n",
      "Date:                Sun, 31 May 2020   Prob (F-statistic):             0.0139\n",
      "Time:                        23:49:20   Log-Likelihood:                -117.39\n",
      "No. Observations:                  10   AIC:                             242.8\n",
      "Df Residuals:                       6   BIC:                             244.0\n",
      "Df Model:                           3                                         \n",
      "Covariance Type:            nonrobust                                         \n",
      "==============================================================================\n",
      "                 coef    std err          t      P>|t|      [0.025      0.975]\n",
      "------------------------------------------------------------------------------\n",
      "const       -7.64e+05   6.56e+05     -1.164      0.289   -2.37e+06    8.42e+05\n",
      "Age         5.386e+04   4.81e+04      1.119      0.306   -6.39e+04    1.72e+05\n",
      "Age^2       -910.6522   1116.794     -0.815      0.446   -3643.348    1822.043\n",
      "Age^3          4.9542      8.266      0.599      0.571     -15.273      25.181\n",
      "==============================================================================\n",
      "Omnibus:                        0.502   Durbin-Watson:                   1.450\n",
      "Prob(Omnibus):                  0.778   Jarque-Bera (JB):                0.031\n",
      "Skew:                          -0.107   Prob(JB):                        0.985\n",
      "Kurtosis:                       2.832   Cond. No.                     7.15e+06\n",
      "==============================================================================\n",
      "\n",
      "Warnings:\n",
      "[1] Standard Errors assume that the covariance matrix of the errors is correctly specified.\n",
      "[2] The condition number is large, 7.15e+06. This might indicate that there are\n",
      "strong multicollinearity or other numerical problems.\n"
     ]
    },
    {
     "name": "stderr",
     "output_type": "stream",
     "text": [
      "C:\\ProgramData\\Anaconda3\\lib\\site-packages\\numpy\\core\\fromnumeric.py:2542: FutureWarning: Method .ptp is deprecated and will be removed in a future version. Use numpy.ptp instead.\n",
      "  return ptp(axis=axis, out=out, **kwargs)\n",
      "C:\\ProgramData\\Anaconda3\\lib\\site-packages\\scipy\\stats\\stats.py:1450: UserWarning: kurtosistest only valid for n>=20 ... continuing anyway, n=10\n",
      "  \"anyway, n=%i\" % int(n))\n"
     ]
    }
   ],
   "source": [
    "X31 = sm.add_constant(X3)\n",
    "model = sm.OLS(y3,X31)\n",
    "result= model.fit()\n",
    "print(result.summary())"
   ]
  },
  {
   "cell_type": "code",
   "execution_count": 27,
   "metadata": {},
   "outputs": [
    {
     "data": {
      "text/html": [
       "<div>\n",
       "<style scoped>\n",
       "    .dataframe tbody tr th:only-of-type {\n",
       "        vertical-align: middle;\n",
       "    }\n",
       "\n",
       "    .dataframe tbody tr th {\n",
       "        vertical-align: top;\n",
       "    }\n",
       "\n",
       "    .dataframe thead th {\n",
       "        text-align: right;\n",
       "    }\n",
       "</style>\n",
       "<table border=\"1\" class=\"dataframe\">\n",
       "  <thead>\n",
       "    <tr style=\"text-align: right;\">\n",
       "      <th></th>\n",
       "      <th>Parameters</th>\n",
       "    </tr>\n",
       "  </thead>\n",
       "  <tbody>\n",
       "    <tr>\n",
       "      <th>const</th>\n",
       "      <td>-763999.774329</td>\n",
       "    </tr>\n",
       "    <tr>\n",
       "      <th>Age</th>\n",
       "      <td>53860.384386</td>\n",
       "    </tr>\n",
       "    <tr>\n",
       "      <th>Age^2</th>\n",
       "      <td>-910.652169</td>\n",
       "    </tr>\n",
       "    <tr>\n",
       "      <th>Age^3</th>\n",
       "      <td>4.954189</td>\n",
       "    </tr>\n",
       "  </tbody>\n",
       "</table>\n",
       "</div>"
      ],
      "text/plain": [
       "          Parameters\n",
       "const -763999.774329\n",
       "Age     53860.384386\n",
       "Age^2    -910.652169\n",
       "Age^3       4.954189"
      ]
     },
     "execution_count": 27,
     "metadata": {},
     "output_type": "execute_result"
    }
   ],
   "source": [
    "Parameters = pd.DataFrame(result.params,columns={'Parameters'},)\n",
    "Parameters"
   ]
  },
  {
   "cell_type": "code",
   "execution_count": 28,
   "metadata": {},
   "outputs": [],
   "source": [
    "a = round(float(Parameters.iloc[0]),2)\n",
    "b = round(float(Parameters.iloc[1]),2)\n",
    "c = round(float(Parameters.iloc[2]),2)\n",
    "d = round(float(Parameters.iloc[3]),2)"
   ]
  },
  {
   "cell_type": "code",
   "execution_count": 29,
   "metadata": {},
   "outputs": [
    {
     "name": "stdout",
     "output_type": "stream",
     "text": [
      "The equation is: Salary = -763999.77 + 53860.38 * Age + -910.65 * Age^2 + 4.95 * Age^3\n"
     ]
    }
   ],
   "source": [
    "print(\"The equation is: Salary =\",a,\"+\",b,\"* Age +\",c,\"* Age^2 +\",d,\"* Age^3\")"
   ]
  },
  {
   "cell_type": "code",
   "execution_count": 30,
   "metadata": {},
   "outputs": [],
   "source": [
    "X3 = df3.loc[: , df3.columns != 'Salary']\n",
    "X3= np.array(X3)\n",
    "lr_model3 = lr.fit(X3,y3)"
   ]
  },
  {
   "cell_type": "markdown",
   "metadata": {},
   "source": [
    "## Prediction"
   ]
  },
  {
   "cell_type": "code",
   "execution_count": 31,
   "metadata": {},
   "outputs": [],
   "source": [
    "y3_pred = lr_model3.predict(X3)"
   ]
  },
  {
   "cell_type": "code",
   "execution_count": 32,
   "metadata": {},
   "outputs": [
    {
     "data": {
      "image/png": "[encoded data removed]",
      "text/plain": [
       "<Figure size 432x288 with 1 Axes>"
      ]
     },
     "metadata": {
      "needs_background": "light"
     },
     "output_type": "display_data"
    }
   ],
   "source": [
    "import numpy\n",
    "import matplotlib.pyplot as plt\n",
    "mymodel = numpy.poly1d(numpy.polyfit(df1.Age, df1.Salary, 3))\n",
    "myline = numpy.linspace(25, 65, 100)\n",
    "plt.scatter(df1.Age, df1.Salary, color='blue')\n",
    "plt.plot(myline, mymodel(myline),color='red',linewidth = 3.0)\n",
    "plt.show()"
   ]
  },
  {
   "cell_type": "markdown",
   "metadata": {},
   "source": [
    "## Conclusion"
   ]
  },
  {
   "cell_type": "code",
   "execution_count": 33,
   "metadata": {},
   "outputs": [
    {
     "name": "stdout",
     "output_type": "stream",
     "text": [
      "R squared of polynomial of degree 3: 81.01%\n",
      "RMSE of polynomial of degree 3: 30,346.97\n"
     ]
    }
   ],
   "source": [
    "rsqu3=lr.score(X3,y3)\n",
    "print(\"R squared of polynomial of degree 3:\", \"{:.2%}\".format(rsqu3))\n",
    "rmse3=np.sqrt(mean_squared_error(y3,y3_pred))\n",
    "print(\"RMSE of polynomial of degree 3:\", \"{:,.2f}\".format(rmse3))"
   ]
  },
  {
   "cell_type": "markdown",
   "metadata": {},
   "source": [
    "# Polynomial of degree 4"
   ]
  },
  {
   "cell_type": "code",
   "execution_count": 34,
   "metadata": {},
   "outputs": [
    {
     "data": {
      "text/html": [
       "<div>\n",
       "<style scoped>\n",
       "    .dataframe tbody tr th:only-of-type {\n",
       "        vertical-align: middle;\n",
       "    }\n",
       "\n",
       "    .dataframe tbody tr th {\n",
       "        vertical-align: top;\n",
       "    }\n",
       "\n",
       "    .dataframe thead th {\n",
       "        text-align: right;\n",
       "    }\n",
       "</style>\n",
       "<table border=\"1\" class=\"dataframe\">\n",
       "  <thead>\n",
       "    <tr style=\"text-align: right;\">\n",
       "      <th></th>\n",
       "      <th>Salary</th>\n",
       "      <th>Age</th>\n",
       "      <th>Age^2</th>\n",
       "      <th>Age^3</th>\n",
       "      <th>Age^4</th>\n",
       "    </tr>\n",
       "  </thead>\n",
       "  <tbody>\n",
       "    <tr>\n",
       "      <th>0</th>\n",
       "      <td>135000</td>\n",
       "      <td>25</td>\n",
       "      <td>625</td>\n",
       "      <td>15625</td>\n",
       "      <td>390625</td>\n",
       "    </tr>\n",
       "    <tr>\n",
       "      <th>1</th>\n",
       "      <td>260000</td>\n",
       "      <td>55</td>\n",
       "      <td>3025</td>\n",
       "      <td>166375</td>\n",
       "      <td>9150625</td>\n",
       "    </tr>\n",
       "    <tr>\n",
       "      <th>2</th>\n",
       "      <td>105000</td>\n",
       "      <td>27</td>\n",
       "      <td>729</td>\n",
       "      <td>19683</td>\n",
       "      <td>531441</td>\n",
       "    </tr>\n",
       "    <tr>\n",
       "      <th>3</th>\n",
       "      <td>220000</td>\n",
       "      <td>35</td>\n",
       "      <td>1225</td>\n",
       "      <td>42875</td>\n",
       "      <td>1500625</td>\n",
       "    </tr>\n",
       "    <tr>\n",
       "      <th>4</th>\n",
       "      <td>240000</td>\n",
       "      <td>60</td>\n",
       "      <td>3600</td>\n",
       "      <td>216000</td>\n",
       "      <td>12960000</td>\n",
       "    </tr>\n",
       "    <tr>\n",
       "      <th>5</th>\n",
       "      <td>265000</td>\n",
       "      <td>65</td>\n",
       "      <td>4225</td>\n",
       "      <td>274625</td>\n",
       "      <td>17850625</td>\n",
       "    </tr>\n",
       "    <tr>\n",
       "      <th>6</th>\n",
       "      <td>270000</td>\n",
       "      <td>45</td>\n",
       "      <td>2025</td>\n",
       "      <td>91125</td>\n",
       "      <td>4100625</td>\n",
       "    </tr>\n",
       "    <tr>\n",
       "      <th>7</th>\n",
       "      <td>300000</td>\n",
       "      <td>40</td>\n",
       "      <td>1600</td>\n",
       "      <td>64000</td>\n",
       "      <td>2560000</td>\n",
       "    </tr>\n",
       "    <tr>\n",
       "      <th>8</th>\n",
       "      <td>265000</td>\n",
       "      <td>50</td>\n",
       "      <td>2500</td>\n",
       "      <td>125000</td>\n",
       "      <td>6250000</td>\n",
       "    </tr>\n",
       "    <tr>\n",
       "      <th>9</th>\n",
       "      <td>105000</td>\n",
       "      <td>30</td>\n",
       "      <td>900</td>\n",
       "      <td>27000</td>\n",
       "      <td>810000</td>\n",
       "    </tr>\n",
       "  </tbody>\n",
       "</table>\n",
       "</div>"
      ],
      "text/plain": [
       "   Salary  Age  Age^2   Age^3     Age^4\n",
       "0  135000   25    625   15625    390625\n",
       "1  260000   55   3025  166375   9150625\n",
       "2  105000   27    729   19683    531441\n",
       "3  220000   35   1225   42875   1500625\n",
       "4  240000   60   3600  216000  12960000\n",
       "5  265000   65   4225  274625  17850625\n",
       "6  270000   45   2025   91125   4100625\n",
       "7  300000   40   1600   64000   2560000\n",
       "8  265000   50   2500  125000   6250000\n",
       "9  105000   30    900   27000    810000"
      ]
     },
     "execution_count": 34,
     "metadata": {},
     "output_type": "execute_result"
    }
   ],
   "source": [
    "df3['Age^4']=df3['Age']**4\n",
    "df4 = pd.DataFrame({'Salary': df3.Salary, 'Age': df3.Age, 'Age^2' : df3['Age^2'], 'Age^3' : df3['Age^3'], 'Age^4' : df3['Age^4']})\n",
    "df4"
   ]
  },
  {
   "cell_type": "code",
   "execution_count": 35,
   "metadata": {},
   "outputs": [],
   "source": [
    "X4 = df4.loc[: , df4.columns != 'Salary']\n",
    "y4 = df4.loc[: , df4.columns == 'Salary']"
   ]
  },
  {
   "cell_type": "markdown",
   "metadata": {},
   "source": [
    "## Train the model"
   ]
  },
  {
   "cell_type": "code",
   "execution_count": 36,
   "metadata": {},
   "outputs": [
    {
     "name": "stdout",
     "output_type": "stream",
     "text": [
      "                            OLS Regression Results                            \n",
      "==============================================================================\n",
      "Dep. Variable:                 Salary   R-squared:                       0.912\n",
      "Model:                            OLS   Adj. R-squared:                  0.841\n",
      "Method:                 Least Squares   F-statistic:                     12.89\n",
      "Date:                Sun, 31 May 2020   Prob (F-statistic):            0.00761\n",
      "Time:                        23:49:20   Log-Likelihood:                -113.57\n",
      "No. Observations:                  10   AIC:                             237.1\n",
      "Df Residuals:                       5   BIC:                             238.7\n",
      "Df Model:                           4                                         \n",
      "Covariance Type:            nonrobust                                         \n",
      "==============================================================================\n",
      "                 coef    std err          t      P>|t|      [0.025      0.975]\n",
      "------------------------------------------------------------------------------\n",
      "const       4.029e+06   2.06e+06      1.956      0.108   -1.27e+06    9.32e+06\n",
      "Age         -4.22e+05   2.02e+05     -2.091      0.091   -9.41e+05    9.68e+04\n",
      "Age^2       1.611e+04   7152.231      2.253      0.074   -2274.690    3.45e+04\n",
      "Age^3       -255.7099    108.956     -2.347      0.066    -535.790      24.370\n",
      "Age^4          1.4470      0.604      2.396      0.062      -0.105       2.999\n",
      "==============================================================================\n",
      "Omnibus:                        0.882   Durbin-Watson:                   2.060\n",
      "Prob(Omnibus):                  0.643   Jarque-Bera (JB):                0.602\n",
      "Skew:                           0.037   Prob(JB):                        0.740\n",
      "Kurtosis:                       1.800   Cond. No.                     1.78e+09\n",
      "==============================================================================\n",
      "\n",
      "Warnings:\n",
      "[1] Standard Errors assume that the covariance matrix of the errors is correctly specified.\n",
      "[2] The condition number is large, 1.78e+09. This might indicate that there are\n",
      "strong multicollinearity or other numerical problems.\n"
     ]
    },
    {
     "name": "stderr",
     "output_type": "stream",
     "text": [
      "C:\\ProgramData\\Anaconda3\\lib\\site-packages\\numpy\\core\\fromnumeric.py:2542: FutureWarning: Method .ptp is deprecated and will be removed in a future version. Use numpy.ptp instead.\n",
      "  return ptp(axis=axis, out=out, **kwargs)\n",
      "C:\\ProgramData\\Anaconda3\\lib\\site-packages\\scipy\\stats\\stats.py:1450: UserWarning: kurtosistest only valid for n>=20 ... continuing anyway, n=10\n",
      "  \"anyway, n=%i\" % int(n))\n"
     ]
    }
   ],
   "source": [
    "X41 = sm.add_constant(X4)\n",
    "model = sm.OLS(y4,X41)\n",
    "result= model.fit()\n",
    "print(result.summary())"
   ]
  },
  {
   "cell_type": "code",
   "execution_count": 37,
   "metadata": {},
   "outputs": [
    {
     "data": {
      "text/html": [
       "<div>\n",
       "<style scoped>\n",
       "    .dataframe tbody tr th:only-of-type {\n",
       "        vertical-align: middle;\n",
       "    }\n",
       "\n",
       "    .dataframe tbody tr th {\n",
       "        vertical-align: top;\n",
       "    }\n",
       "\n",
       "    .dataframe thead th {\n",
       "        text-align: right;\n",
       "    }\n",
       "</style>\n",
       "<table border=\"1\" class=\"dataframe\">\n",
       "  <thead>\n",
       "    <tr style=\"text-align: right;\">\n",
       "      <th></th>\n",
       "      <th>Parameters</th>\n",
       "    </tr>\n",
       "  </thead>\n",
       "  <tbody>\n",
       "    <tr>\n",
       "      <th>const</th>\n",
       "      <td>4.028745e+06</td>\n",
       "    </tr>\n",
       "    <tr>\n",
       "      <th>Age</th>\n",
       "      <td>-4.220042e+05</td>\n",
       "    </tr>\n",
       "    <tr>\n",
       "      <th>Age^2</th>\n",
       "      <td>1.611071e+04</td>\n",
       "    </tr>\n",
       "    <tr>\n",
       "      <th>Age^3</th>\n",
       "      <td>-2.557099e+02</td>\n",
       "    </tr>\n",
       "    <tr>\n",
       "      <th>Age^4</th>\n",
       "      <td>1.447003e+00</td>\n",
       "    </tr>\n",
       "  </tbody>\n",
       "</table>\n",
       "</div>"
      ],
      "text/plain": [
       "         Parameters\n",
       "const  4.028745e+06\n",
       "Age   -4.220042e+05\n",
       "Age^2  1.611071e+04\n",
       "Age^3 -2.557099e+02\n",
       "Age^4  1.447003e+00"
      ]
     },
     "execution_count": 37,
     "metadata": {},
     "output_type": "execute_result"
    }
   ],
   "source": [
    "Parameters = pd.DataFrame(result.params,columns={'Parameters'},)\n",
    "Parameters"
   ]
  },
  {
   "cell_type": "code",
   "execution_count": 38,
   "metadata": {},
   "outputs": [],
   "source": [
    "a = round(float(Parameters.iloc[0]),2)\n",
    "b = round(float(Parameters.iloc[1]),2)\n",
    "c = round(float(Parameters.iloc[2]),2)\n",
    "d = round(float(Parameters.iloc[3]),2)\n",
    "e = round(float(Parameters.iloc[4]),2)"
   ]
  },
  {
   "cell_type": "code",
   "execution_count": 39,
   "metadata": {},
   "outputs": [
    {
     "name": "stdout",
     "output_type": "stream",
     "text": [
      "The equation is: Salary = 4028744.57 + -422004.17 * Age + 16110.71 * Age^2 + -255.71 * Age^3 + 1.45 * Age^4\n"
     ]
    }
   ],
   "source": [
    "print(\"The equation is: Salary =\",a,\"+\",b,\"* Age +\",c,\"* Age^2 +\",d,\"* Age^3 +\",e,\"* Age^4\")"
   ]
  },
  {
   "cell_type": "code",
   "execution_count": 40,
   "metadata": {},
   "outputs": [],
   "source": [
    "X4 = df4.loc[: , df4.columns != 'Salary']\n",
    "X4= np.array(X4)\n",
    "lr_model4 = lr.fit(X4,y4)"
   ]
  },
  {
   "cell_type": "markdown",
   "metadata": {},
   "source": [
    "## Prediction"
   ]
  },
  {
   "cell_type": "code",
   "execution_count": 41,
   "metadata": {},
   "outputs": [],
   "source": [
    "y4_pred = lr_model4.predict(X4)"
   ]
  },
  {
   "cell_type": "code",
   "execution_count": 42,
   "metadata": {},
   "outputs": [
    {
     "data": {
      "image/png": "[encoded data removed]",
      "text/plain": [
       "<Figure size 432x288 with 1 Axes>"
      ]
     },
     "metadata": {
      "needs_background": "light"
     },
     "output_type": "display_data"
    }
   ],
   "source": [
    "import numpy\n",
    "import matplotlib.pyplot as plt\n",
    "mymodel = numpy.poly1d(numpy.polyfit(df1.Age, df1.Salary, 4))\n",
    "myline = numpy.linspace(25, 65, 100)\n",
    "plt.scatter(df1.Age, df1.Salary, color='blue')\n",
    "plt.plot(myline, mymodel(myline),color='red',linewidth = 3.0)\n",
    "plt.show()"
   ]
  },
  {
   "cell_type": "markdown",
   "metadata": {},
   "source": [
    "## Conclusion"
   ]
  },
  {
   "cell_type": "code",
   "execution_count": 43,
   "metadata": {},
   "outputs": [
    {
     "name": "stdout",
     "output_type": "stream",
     "text": [
      "R squared of polynomial of degree 4: 91.16%\n",
      "RMSE of polynomial of degree 4: 20,704.20\n"
     ]
    }
   ],
   "source": [
    "rsqu4=lr.score(X4,y4)\n",
    "print(\"R squared of polynomial of degree 4:\", \"{:.2%}\".format(rsqu4))\n",
    "rmse4=np.sqrt(mean_squared_error(y4,y4_pred))\n",
    "print(\"RMSE of polynomial of degree 4:\", \"{:,.2f}\".format(rmse4))"
   ]
  },
  {
   "cell_type": "markdown",
   "metadata": {},
   "source": [
    "# Polynomial of degree 5"
   ]
  },
  {
   "cell_type": "code",
   "execution_count": 44,
   "metadata": {},
   "outputs": [
    {
     "data": {
      "text/html": [
       "<div>\n",
       "<style scoped>\n",
       "    .dataframe tbody tr th:only-of-type {\n",
       "        vertical-align: middle;\n",
       "    }\n",
       "\n",
       "    .dataframe tbody tr th {\n",
       "        vertical-align: top;\n",
       "    }\n",
       "\n",
       "    .dataframe thead th {\n",
       "        text-align: right;\n",
       "    }\n",
       "</style>\n",
       "<table border=\"1\" class=\"dataframe\">\n",
       "  <thead>\n",
       "    <tr style=\"text-align: right;\">\n",
       "      <th></th>\n",
       "      <th>Salary</th>\n",
       "      <th>Age</th>\n",
       "      <th>Age^2</th>\n",
       "      <th>Age^3</th>\n",
       "      <th>Age^4</th>\n",
       "      <th>Age^5</th>\n",
       "    </tr>\n",
       "  </thead>\n",
       "  <tbody>\n",
       "    <tr>\n",
       "      <th>0</th>\n",
       "      <td>135000</td>\n",
       "      <td>25</td>\n",
       "      <td>625</td>\n",
       "      <td>15625</td>\n",
       "      <td>390625</td>\n",
       "      <td>9765625</td>\n",
       "    </tr>\n",
       "    <tr>\n",
       "      <th>1</th>\n",
       "      <td>260000</td>\n",
       "      <td>55</td>\n",
       "      <td>3025</td>\n",
       "      <td>166375</td>\n",
       "      <td>9150625</td>\n",
       "      <td>503284375</td>\n",
       "    </tr>\n",
       "    <tr>\n",
       "      <th>2</th>\n",
       "      <td>105000</td>\n",
       "      <td>27</td>\n",
       "      <td>729</td>\n",
       "      <td>19683</td>\n",
       "      <td>531441</td>\n",
       "      <td>14348907</td>\n",
       "    </tr>\n",
       "    <tr>\n",
       "      <th>3</th>\n",
       "      <td>220000</td>\n",
       "      <td>35</td>\n",
       "      <td>1225</td>\n",
       "      <td>42875</td>\n",
       "      <td>1500625</td>\n",
       "      <td>52521875</td>\n",
       "    </tr>\n",
       "    <tr>\n",
       "      <th>4</th>\n",
       "      <td>240000</td>\n",
       "      <td>60</td>\n",
       "      <td>3600</td>\n",
       "      <td>216000</td>\n",
       "      <td>12960000</td>\n",
       "      <td>777600000</td>\n",
       "    </tr>\n",
       "    <tr>\n",
       "      <th>5</th>\n",
       "      <td>265000</td>\n",
       "      <td>65</td>\n",
       "      <td>4225</td>\n",
       "      <td>274625</td>\n",
       "      <td>17850625</td>\n",
       "      <td>1160290625</td>\n",
       "    </tr>\n",
       "    <tr>\n",
       "      <th>6</th>\n",
       "      <td>270000</td>\n",
       "      <td>45</td>\n",
       "      <td>2025</td>\n",
       "      <td>91125</td>\n",
       "      <td>4100625</td>\n",
       "      <td>184528125</td>\n",
       "    </tr>\n",
       "    <tr>\n",
       "      <th>7</th>\n",
       "      <td>300000</td>\n",
       "      <td>40</td>\n",
       "      <td>1600</td>\n",
       "      <td>64000</td>\n",
       "      <td>2560000</td>\n",
       "      <td>102400000</td>\n",
       "    </tr>\n",
       "    <tr>\n",
       "      <th>8</th>\n",
       "      <td>265000</td>\n",
       "      <td>50</td>\n",
       "      <td>2500</td>\n",
       "      <td>125000</td>\n",
       "      <td>6250000</td>\n",
       "      <td>312500000</td>\n",
       "    </tr>\n",
       "    <tr>\n",
       "      <th>9</th>\n",
       "      <td>105000</td>\n",
       "      <td>30</td>\n",
       "      <td>900</td>\n",
       "      <td>27000</td>\n",
       "      <td>810000</td>\n",
       "      <td>24300000</td>\n",
       "    </tr>\n",
       "  </tbody>\n",
       "</table>\n",
       "</div>"
      ],
      "text/plain": [
       "   Salary  Age  Age^2   Age^3     Age^4       Age^5\n",
       "0  135000   25    625   15625    390625     9765625\n",
       "1  260000   55   3025  166375   9150625   503284375\n",
       "2  105000   27    729   19683    531441    14348907\n",
       "3  220000   35   1225   42875   1500625    52521875\n",
       "4  240000   60   3600  216000  12960000   777600000\n",
       "5  265000   65   4225  274625  17850625  1160290625\n",
       "6  270000   45   2025   91125   4100625   184528125\n",
       "7  300000   40   1600   64000   2560000   102400000\n",
       "8  265000   50   2500  125000   6250000   312500000\n",
       "9  105000   30    900   27000    810000    24300000"
      ]
     },
     "execution_count": 44,
     "metadata": {},
     "output_type": "execute_result"
    }
   ],
   "source": [
    "df4['Age^5']=df4['Age']**5\n",
    "df5 = pd.DataFrame({'Salary': df4.Salary, 'Age': df4.Age, 'Age^2' : df4['Age^2'], 'Age^3' : df4['Age^3'], 'Age^4' : df4['Age^4'], 'Age^5' : df4['Age^5']})\n",
    "df5"
   ]
  },
  {
   "cell_type": "code",
   "execution_count": 45,
   "metadata": {},
   "outputs": [],
   "source": [
    "X5 = df5.loc[: , df5.columns != 'Salary']\n",
    "y5 = df5.loc[: , df5.columns == 'Salary']"
   ]
  },
  {
   "cell_type": "markdown",
   "metadata": {
    "scrolled": true
   },
   "source": [
    "## Train the model"
   ]
  },
  {
   "cell_type": "code",
   "execution_count": 46,
   "metadata": {},
   "outputs": [
    {
     "name": "stdout",
     "output_type": "stream",
     "text": [
      "                            OLS Regression Results                            \n",
      "==============================================================================\n",
      "Dep. Variable:                 Salary   R-squared:                       0.969\n",
      "Model:                            OLS   Adj. R-squared:                  0.930\n",
      "Method:                 Least Squares   F-statistic:                     25.10\n",
      "Date:                Sun, 31 May 2020   Prob (F-statistic):            0.00405\n",
      "Time:                        23:49:21   Log-Likelihood:                -108.31\n",
      "No. Observations:                  10   AIC:                             228.6\n",
      "Df Residuals:                       4   BIC:                             230.4\n",
      "Df Model:                           5                                         \n",
      "Covariance Type:            nonrobust                                         \n",
      "==============================================================================\n",
      "                 coef    std err          t      P>|t|      [0.025      0.975]\n",
      "------------------------------------------------------------------------------\n",
      "const        1.92e+07   5.72e+06      3.354      0.028    3.31e+06    3.51e+07\n",
      "Age        -2.312e+06   7.05e+05     -3.277      0.031   -4.27e+06   -3.53e+05\n",
      "Age^2       1.075e+05   3.38e+04      3.178      0.034    1.36e+04    2.01e+05\n",
      "Age^3      -2403.6423    790.506     -3.041      0.038   -4598.437    -208.847\n",
      "Age^4         25.9926      9.005      2.887      0.045       0.991      50.994\n",
      "Age^5         -0.1094      0.040     -2.729      0.053      -0.221       0.002\n",
      "==============================================================================\n",
      "Omnibus:                        0.478   Durbin-Watson:                   2.449\n",
      "Prob(Omnibus):                  0.787   Jarque-Bera (JB):                0.477\n",
      "Skew:                          -0.385   Prob(JB):                        0.788\n",
      "Kurtosis:                       2.258   Cond. No.                     4.57e+11\n",
      "==============================================================================\n",
      "\n",
      "Warnings:\n",
      "[1] Standard Errors assume that the covariance matrix of the errors is correctly specified.\n",
      "[2] The condition number is large, 4.57e+11. This might indicate that there are\n",
      "strong multicollinearity or other numerical problems.\n"
     ]
    },
    {
     "name": "stderr",
     "output_type": "stream",
     "text": [
      "C:\\ProgramData\\Anaconda3\\lib\\site-packages\\numpy\\core\\fromnumeric.py:2542: FutureWarning: Method .ptp is deprecated and will be removed in a future version. Use numpy.ptp instead.\n",
      "  return ptp(axis=axis, out=out, **kwargs)\n",
      "C:\\ProgramData\\Anaconda3\\lib\\site-packages\\scipy\\stats\\stats.py:1450: UserWarning: kurtosistest only valid for n>=20 ... continuing anyway, n=10\n",
      "  \"anyway, n=%i\" % int(n))\n"
     ]
    }
   ],
   "source": [
    "X51 = sm.add_constant(X5)\n",
    "model = sm.OLS(y5,X51)\n",
    "result= model.fit()\n",
    "print(result.summary())"
   ]
  },
  {
   "cell_type": "code",
   "execution_count": 47,
   "metadata": {},
   "outputs": [
    {
     "data": {
      "text/html": [
       "<div>\n",
       "<style scoped>\n",
       "    .dataframe tbody tr th:only-of-type {\n",
       "        vertical-align: middle;\n",
       "    }\n",
       "\n",
       "    .dataframe tbody tr th {\n",
       "        vertical-align: top;\n",
       "    }\n",
       "\n",
       "    .dataframe thead th {\n",
       "        text-align: right;\n",
       "    }\n",
       "</style>\n",
       "<table border=\"1\" class=\"dataframe\">\n",
       "  <thead>\n",
       "    <tr style=\"text-align: right;\">\n",
       "      <th></th>\n",
       "      <th>Parameters</th>\n",
       "    </tr>\n",
       "  </thead>\n",
       "  <tbody>\n",
       "    <tr>\n",
       "      <th>const</th>\n",
       "      <td>1.919842e+07</td>\n",
       "    </tr>\n",
       "    <tr>\n",
       "      <th>Age</th>\n",
       "      <td>-2.312166e+06</td>\n",
       "    </tr>\n",
       "    <tr>\n",
       "      <th>Age^2</th>\n",
       "      <td>1.075395e+05</td>\n",
       "    </tr>\n",
       "    <tr>\n",
       "      <th>Age^3</th>\n",
       "      <td>-2.403642e+03</td>\n",
       "    </tr>\n",
       "    <tr>\n",
       "      <th>Age^4</th>\n",
       "      <td>2.599259e+01</td>\n",
       "    </tr>\n",
       "    <tr>\n",
       "      <th>Age^5</th>\n",
       "      <td>-1.093551e-01</td>\n",
       "    </tr>\n",
       "  </tbody>\n",
       "</table>\n",
       "</div>"
      ],
      "text/plain": [
       "         Parameters\n",
       "const  1.919842e+07\n",
       "Age   -2.312166e+06\n",
       "Age^2  1.075395e+05\n",
       "Age^3 -2.403642e+03\n",
       "Age^4  2.599259e+01\n",
       "Age^5 -1.093551e-01"
      ]
     },
     "execution_count": 47,
     "metadata": {},
     "output_type": "execute_result"
    }
   ],
   "source": [
    "Parameters = pd.DataFrame(result.params,columns={'Parameters'},)\n",
    "Parameters"
   ]
  },
  {
   "cell_type": "code",
   "execution_count": 48,
   "metadata": {},
   "outputs": [],
   "source": [
    "a = round(float(Parameters.iloc[0]),2)\n",
    "b = round(float(Parameters.iloc[1]),2)\n",
    "c = round(float(Parameters.iloc[2]),2)\n",
    "d = round(float(Parameters.iloc[3]),2)\n",
    "e = round(float(Parameters.iloc[4]),2)\n",
    "f = round(float(Parameters.iloc[5]),2)"
   ]
  },
  {
   "cell_type": "code",
   "execution_count": 49,
   "metadata": {},
   "outputs": [
    {
     "name": "stdout",
     "output_type": "stream",
     "text": [
      "The equation is: Salary = 19198421.05 + -2312165.6 * Age + 107539.45 * Age^2 + -2403.64 * Age^3 + 25.99 * Age^4 + -0.11 * Age^5\n"
     ]
    }
   ],
   "source": [
    "print(\"The equation is: Salary =\",a,\"+\",b,\"* Age +\",c,\"* Age^2 +\",d,\"* Age^3 +\",e,\"* Age^4 +\",f,\"* Age^5\")"
   ]
  },
  {
   "cell_type": "code",
   "execution_count": 50,
   "metadata": {
    "scrolled": true
   },
   "outputs": [],
   "source": [
    "X5 = df5.loc[: , df5.columns != 'Salary']\n",
    "X5= np.array(X5)\n",
    "lr_model5 = lr.fit(X5,y5)"
   ]
  },
  {
   "cell_type": "markdown",
   "metadata": {},
   "source": [
    "## Prediction"
   ]
  },
  {
   "cell_type": "code",
   "execution_count": 51,
   "metadata": {},
   "outputs": [],
   "source": [
    "y5_pred = lr_model5.predict(X5)"
   ]
  },
  {
   "cell_type": "code",
   "execution_count": 52,
   "metadata": {},
   "outputs": [
    {
     "data": {
      "image/png": "[encoded data removed]",
      "text/plain": [
       "<Figure size 432x288 with 1 Axes>"
      ]
     },
     "metadata": {
      "needs_background": "light"
     },
     "output_type": "display_data"
    }
   ],
   "source": [
    "import numpy\n",
    "import matplotlib.pyplot as plt\n",
    "mymodel = numpy.poly1d(numpy.polyfit(df1.Age, df1.Salary, 5))\n",
    "myline = numpy.linspace(25, 65, 100)\n",
    "plt.scatter(df1.Age, df1.Salary, color='blue')\n",
    "plt.plot(myline, mymodel(myline),color='red',linewidth = 3.0)\n",
    "plt.show()"
   ]
  },
  {
   "cell_type": "markdown",
   "metadata": {},
   "source": [
    "## Conclusion"
   ]
  },
  {
   "cell_type": "code",
   "execution_count": 53,
   "metadata": {},
   "outputs": [
    {
     "name": "stdout",
     "output_type": "stream",
     "text": [
      "R squared of polynomial of degree 5: 96.91%\n",
      "RMSE of polynomial of degree 5: 12,240.10\n"
     ]
    }
   ],
   "source": [
    "rsqu5=lr.score(X5,y5)\n",
    "print(\"R squared of polynomial of degree 5:\", \"{:.2%}\".format(rsqu5))\n",
    "rmse5=np.sqrt(mean_squared_error(y5,y5_pred))\n",
    "print(\"RMSE of polynomial of degree 5:\", \"{:,.2f}\".format(rmse5))"
   ]
  },
  {
   "cell_type": "markdown",
   "metadata": {},
   "source": [
    "# Polynomial of degree 10"
   ]
  },
  {
   "cell_type": "code",
   "execution_count": 54,
   "metadata": {},
   "outputs": [
    {
     "data": {
      "text/html": [
       "<div>\n",
       "<style scoped>\n",
       "    .dataframe tbody tr th:only-of-type {\n",
       "        vertical-align: middle;\n",
       "    }\n",
       "\n",
       "    .dataframe tbody tr th {\n",
       "        vertical-align: top;\n",
       "    }\n",
       "\n",
       "    .dataframe thead th {\n",
       "        text-align: right;\n",
       "    }\n",
       "</style>\n",
       "<table border=\"1\" class=\"dataframe\">\n",
       "  <thead>\n",
       "    <tr style=\"text-align: right;\">\n",
       "      <th></th>\n",
       "      <th>Salary</th>\n",
       "      <th>Age</th>\n",
       "      <th>Age^2</th>\n",
       "      <th>Age^3</th>\n",
       "      <th>Age^4</th>\n",
       "      <th>Age^5</th>\n",
       "      <th>Age^6</th>\n",
       "      <th>Age^7</th>\n",
       "      <th>Age^8</th>\n",
       "      <th>Age^9</th>\n",
       "      <th>Age^10</th>\n",
       "    </tr>\n",
       "  </thead>\n",
       "  <tbody>\n",
       "    <tr>\n",
       "      <th>0</th>\n",
       "      <td>135000</td>\n",
       "      <td>25</td>\n",
       "      <td>625</td>\n",
       "      <td>15625</td>\n",
       "      <td>390625</td>\n",
       "      <td>9765625</td>\n",
       "      <td>244140625</td>\n",
       "      <td>6103515625</td>\n",
       "      <td>152587890625</td>\n",
       "      <td>3814697265625</td>\n",
       "      <td>95367431640625</td>\n",
       "    </tr>\n",
       "    <tr>\n",
       "      <th>1</th>\n",
       "      <td>260000</td>\n",
       "      <td>55</td>\n",
       "      <td>3025</td>\n",
       "      <td>166375</td>\n",
       "      <td>9150625</td>\n",
       "      <td>503284375</td>\n",
       "      <td>27680640625</td>\n",
       "      <td>1522435234375</td>\n",
       "      <td>83733937890625</td>\n",
       "      <td>4605366583984375</td>\n",
       "      <td>253295162119140625</td>\n",
       "    </tr>\n",
       "    <tr>\n",
       "      <th>2</th>\n",
       "      <td>105000</td>\n",
       "      <td>27</td>\n",
       "      <td>729</td>\n",
       "      <td>19683</td>\n",
       "      <td>531441</td>\n",
       "      <td>14348907</td>\n",
       "      <td>387420489</td>\n",
       "      <td>10460353203</td>\n",
       "      <td>282429536481</td>\n",
       "      <td>7625597484987</td>\n",
       "      <td>205891132094649</td>\n",
       "    </tr>\n",
       "    <tr>\n",
       "      <th>3</th>\n",
       "      <td>220000</td>\n",
       "      <td>35</td>\n",
       "      <td>1225</td>\n",
       "      <td>42875</td>\n",
       "      <td>1500625</td>\n",
       "      <td>52521875</td>\n",
       "      <td>1838265625</td>\n",
       "      <td>64339296875</td>\n",
       "      <td>2251875390625</td>\n",
       "      <td>78815638671875</td>\n",
       "      <td>2758547353515625</td>\n",
       "    </tr>\n",
       "    <tr>\n",
       "      <th>4</th>\n",
       "      <td>240000</td>\n",
       "      <td>60</td>\n",
       "      <td>3600</td>\n",
       "      <td>216000</td>\n",
       "      <td>12960000</td>\n",
       "      <td>777600000</td>\n",
       "      <td>46656000000</td>\n",
       "      <td>2799360000000</td>\n",
       "      <td>167961600000000</td>\n",
       "      <td>10077696000000000</td>\n",
       "      <td>604661760000000000</td>\n",
       "    </tr>\n",
       "    <tr>\n",
       "      <th>5</th>\n",
       "      <td>265000</td>\n",
       "      <td>65</td>\n",
       "      <td>4225</td>\n",
       "      <td>274625</td>\n",
       "      <td>17850625</td>\n",
       "      <td>1160290625</td>\n",
       "      <td>75418890625</td>\n",
       "      <td>4902227890625</td>\n",
       "      <td>318644812890625</td>\n",
       "      <td>20711912837890625</td>\n",
       "      <td>1346274334462890625</td>\n",
       "    </tr>\n",
       "    <tr>\n",
       "      <th>6</th>\n",
       "      <td>270000</td>\n",
       "      <td>45</td>\n",
       "      <td>2025</td>\n",
       "      <td>91125</td>\n",
       "      <td>4100625</td>\n",
       "      <td>184528125</td>\n",
       "      <td>8303765625</td>\n",
       "      <td>373669453125</td>\n",
       "      <td>16815125390625</td>\n",
       "      <td>756680642578125</td>\n",
       "      <td>34050628916015625</td>\n",
       "    </tr>\n",
       "    <tr>\n",
       "      <th>7</th>\n",
       "      <td>300000</td>\n",
       "      <td>40</td>\n",
       "      <td>1600</td>\n",
       "      <td>64000</td>\n",
       "      <td>2560000</td>\n",
       "      <td>102400000</td>\n",
       "      <td>4096000000</td>\n",
       "      <td>163840000000</td>\n",
       "      <td>6553600000000</td>\n",
       "      <td>262144000000000</td>\n",
       "      <td>10485760000000000</td>\n",
       "    </tr>\n",
       "    <tr>\n",
       "      <th>8</th>\n",
       "      <td>265000</td>\n",
       "      <td>50</td>\n",
       "      <td>2500</td>\n",
       "      <td>125000</td>\n",
       "      <td>6250000</td>\n",
       "      <td>312500000</td>\n",
       "      <td>15625000000</td>\n",
       "      <td>781250000000</td>\n",
       "      <td>39062500000000</td>\n",
       "      <td>1953125000000000</td>\n",
       "      <td>97656250000000000</td>\n",
       "    </tr>\n",
       "    <tr>\n",
       "      <th>9</th>\n",
       "      <td>105000</td>\n",
       "      <td>30</td>\n",
       "      <td>900</td>\n",
       "      <td>27000</td>\n",
       "      <td>810000</td>\n",
       "      <td>24300000</td>\n",
       "      <td>729000000</td>\n",
       "      <td>21870000000</td>\n",
       "      <td>656100000000</td>\n",
       "      <td>19683000000000</td>\n",
       "      <td>590490000000000</td>\n",
       "    </tr>\n",
       "  </tbody>\n",
       "</table>\n",
       "</div>"
      ],
      "text/plain": [
       "   Salary  Age  Age^2   Age^3     Age^4       Age^5        Age^6  \\\n",
       "0  135000   25    625   15625    390625     9765625    244140625   \n",
       "1  260000   55   3025  166375   9150625   503284375  27680640625   \n",
       "2  105000   27    729   19683    531441    14348907    387420489   \n",
       "3  220000   35   1225   42875   1500625    52521875   1838265625   \n",
       "4  240000   60   3600  216000  12960000   777600000  46656000000   \n",
       "5  265000   65   4225  274625  17850625  1160290625  75418890625   \n",
       "6  270000   45   2025   91125   4100625   184528125   8303765625   \n",
       "7  300000   40   1600   64000   2560000   102400000   4096000000   \n",
       "8  265000   50   2500  125000   6250000   312500000  15625000000   \n",
       "9  105000   30    900   27000    810000    24300000    729000000   \n",
       "\n",
       "           Age^7            Age^8              Age^9               Age^10  \n",
       "0     6103515625     152587890625      3814697265625       95367431640625  \n",
       "1  1522435234375   83733937890625   4605366583984375   253295162119140625  \n",
       "2    10460353203     282429536481      7625597484987      205891132094649  \n",
       "3    64339296875    2251875390625     78815638671875     2758547353515625  \n",
       "4  2799360000000  167961600000000  10077696000000000   604661760000000000  \n",
       "5  4902227890625  318644812890625  20711912837890625  1346274334462890625  \n",
       "6   373669453125   16815125390625    756680642578125    34050628916015625  \n",
       "7   163840000000    6553600000000    262144000000000    10485760000000000  \n",
       "8   781250000000   39062500000000   1953125000000000    97656250000000000  \n",
       "9    21870000000     656100000000     19683000000000      590490000000000  "
      ]
     },
     "execution_count": 54,
     "metadata": {},
     "output_type": "execute_result"
    }
   ],
   "source": [
    "df5['Age^6']=df5['Age']**6\n",
    "df5['Age^7']=df5['Age']**7\n",
    "df5['Age^8']=df5['Age']**8\n",
    "df5['Age^9']=df5['Age']**9\n",
    "df5['Age^10']=df5['Age']**10\n",
    "df10 = pd.DataFrame({'Salary': df5.Salary, 'Age': df5.Age, 'Age^2' : df5['Age^2'], 'Age^3' : df5['Age^3'],\n",
    "                     'Age^4' : df5['Age^4'], 'Age^5' : df5['Age^5'], 'Age^6' : df5['Age^6'], 'Age^7' : df5['Age^7'],\n",
    "                     'Age^8' : df5['Age^8'], 'Age^9' : df5['Age^9'], 'Age^10' : df5['Age^10']})\n",
    "df10"
   ]
  },
  {
   "cell_type": "code",
   "execution_count": 55,
   "metadata": {},
   "outputs": [],
   "source": [
    "X10 = df10.loc[: , df10.columns != 'Salary']\n",
    "y10 = df10.loc[: , df10.columns == 'Salary']"
   ]
  },
  {
   "cell_type": "markdown",
   "metadata": {},
   "source": [
    "## Train the model"
   ]
  },
  {
   "cell_type": "code",
   "execution_count": 56,
   "metadata": {},
   "outputs": [
    {
     "name": "stdout",
     "output_type": "stream",
     "text": [
      "                            OLS Regression Results                            \n",
      "==============================================================================\n",
      "Dep. Variable:                 Salary   R-squared:                       0.877\n",
      "Model:                            OLS   Adj. R-squared:                  0.723\n",
      "Method:                 Least Squares   F-statistic:                     5.696\n",
      "Date:                Sun, 31 May 2020   Prob (F-statistic):             0.0584\n",
      "Time:                        23:49:21   Log-Likelihood:                -115.23\n",
      "No. Observations:                  10   AIC:                             242.5\n",
      "Df Residuals:                       4   BIC:                             244.3\n",
      "Df Model:                           5                                         \n",
      "Covariance Type:            nonrobust                                         \n",
      "==============================================================================\n",
      "                 coef    std err          t      P>|t|      [0.025      0.975]\n",
      "------------------------------------------------------------------------------\n",
      "const       3.269e-07   1.09e-06      0.301      0.778   -2.69e-06    3.34e-06\n",
      "Age         2.105e-06   6.99e-06      0.301      0.778   -1.73e-05    2.15e-05\n",
      "Age^2       3.826e-05      0.000      0.301      0.778      -0.000       0.000\n",
      "Age^3          0.0006      0.002      0.301      0.778      -0.005       0.006\n",
      "Age^4          0.0073      0.024      0.302      0.778      -0.060       0.074\n",
      "Age^5          0.0526      0.174      0.302      0.777      -0.431       0.536\n",
      "Age^6         -0.0035      0.019     -0.182      0.864      -0.057       0.050\n",
      "Age^7          0.0001      0.001      0.130      0.903      -0.002       0.002\n",
      "Age^8      -1.876e-06   1.73e-05     -0.109      0.919   -4.99e-05    4.61e-05\n",
      "Age^9       1.835e-08   1.78e-07      0.103      0.923   -4.77e-07    5.14e-07\n",
      "Age^10     -7.565e-11   7.25e-10     -0.104      0.922   -2.09e-09    1.94e-09\n",
      "==============================================================================\n",
      "Omnibus:                        0.540   Durbin-Watson:                   1.306\n",
      "Prob(Omnibus):                  0.763   Jarque-Bera (JB):                0.007\n",
      "Skew:                           0.024   Prob(JB):                        0.996\n",
      "Kurtosis:                       2.877   Cond. No.                     1.50e+20\n",
      "==============================================================================\n",
      "\n",
      "Warnings:\n",
      "[1] Standard Errors assume that the covariance matrix of the errors is correctly specified.\n",
      "[2] The input rank is higher than the number of observations.\n",
      "[3] The condition number is large, 1.5e+20. This might indicate that there are\n",
      "strong multicollinearity or other numerical problems.\n"
     ]
    },
    {
     "name": "stderr",
     "output_type": "stream",
     "text": [
      "C:\\ProgramData\\Anaconda3\\lib\\site-packages\\numpy\\core\\fromnumeric.py:2542: FutureWarning: Method .ptp is deprecated and will be removed in a future version. Use numpy.ptp instead.\n",
      "  return ptp(axis=axis, out=out, **kwargs)\n",
      "C:\\ProgramData\\Anaconda3\\lib\\site-packages\\scipy\\stats\\stats.py:1450: UserWarning: kurtosistest only valid for n>=20 ... continuing anyway, n=10\n",
      "  \"anyway, n=%i\" % int(n))\n"
     ]
    }
   ],
   "source": [
    "X101 = sm.add_constant(X10)\n",
    "model = sm.OLS(y10,X101)\n",
    "result= model.fit()\n",
    "print(result.summary())"
   ]
  },
  {
   "cell_type": "code",
   "execution_count": 57,
   "metadata": {},
   "outputs": [
    {
     "data": {
      "text/html": [
       "<div>\n",
       "<style scoped>\n",
       "    .dataframe tbody tr th:only-of-type {\n",
       "        vertical-align: middle;\n",
       "    }\n",
       "\n",
       "    .dataframe tbody tr th {\n",
       "        vertical-align: top;\n",
       "    }\n",
       "\n",
       "    .dataframe thead th {\n",
       "        text-align: right;\n",
       "    }\n",
       "</style>\n",
       "<table border=\"1\" class=\"dataframe\">\n",
       "  <thead>\n",
       "    <tr style=\"text-align: right;\">\n",
       "      <th></th>\n",
       "      <th>Parameters</th>\n",
       "    </tr>\n",
       "  </thead>\n",
       "  <tbody>\n",
       "    <tr>\n",
       "      <th>const</th>\n",
       "      <td>3.269261e-07</td>\n",
       "    </tr>\n",
       "    <tr>\n",
       "      <th>Age</th>\n",
       "      <td>2.104718e-06</td>\n",
       "    </tr>\n",
       "    <tr>\n",
       "      <th>Age^2</th>\n",
       "      <td>3.825864e-05</td>\n",
       "    </tr>\n",
       "    <tr>\n",
       "      <th>Age^3</th>\n",
       "      <td>5.997738e-04</td>\n",
       "    </tr>\n",
       "    <tr>\n",
       "      <th>Age^4</th>\n",
       "      <td>7.297589e-03</td>\n",
       "    </tr>\n",
       "    <tr>\n",
       "      <th>Age^5</th>\n",
       "      <td>5.262767e-02</td>\n",
       "    </tr>\n",
       "    <tr>\n",
       "      <th>Age^6</th>\n",
       "      <td>-3.495230e-03</td>\n",
       "    </tr>\n",
       "    <tr>\n",
       "      <th>Age^7</th>\n",
       "      <td>1.065298e-04</td>\n",
       "    </tr>\n",
       "    <tr>\n",
       "      <th>Age^8</th>\n",
       "      <td>-1.876274e-06</td>\n",
       "    </tr>\n",
       "    <tr>\n",
       "      <th>Age^9</th>\n",
       "      <td>1.835455e-08</td>\n",
       "    </tr>\n",
       "    <tr>\n",
       "      <th>Age^10</th>\n",
       "      <td>-7.565285e-11</td>\n",
       "    </tr>\n",
       "  </tbody>\n",
       "</table>\n",
       "</div>"
      ],
      "text/plain": [
       "          Parameters\n",
       "const   3.269261e-07\n",
       "Age     2.104718e-06\n",
       "Age^2   3.825864e-05\n",
       "Age^3   5.997738e-04\n",
       "Age^4   7.297589e-03\n",
       "Age^5   5.262767e-02\n",
       "Age^6  -3.495230e-03\n",
       "Age^7   1.065298e-04\n",
       "Age^8  -1.876274e-06\n",
       "Age^9   1.835455e-08\n",
       "Age^10 -7.565285e-11"
      ]
     },
     "execution_count": 57,
     "metadata": {},
     "output_type": "execute_result"
    }
   ],
   "source": [
    "Parameters = pd.DataFrame(result.params,columns={'Parameters'},)\n",
    "Parameters"
   ]
  },
  {
   "cell_type": "code",
   "execution_count": 58,
   "metadata": {},
   "outputs": [],
   "source": [
    "a = round(float(Parameters.iloc[0]),5)\n",
    "b = round(float(Parameters.iloc[1]),5)\n",
    "c = round(float(Parameters.iloc[2]),5)\n",
    "d = round(float(Parameters.iloc[3]),5)\n",
    "e = round(float(Parameters.iloc[4]),5)\n",
    "f = round(float(Parameters.iloc[5]),5)\n",
    "g = round(float(Parameters.iloc[6]),5)\n",
    "h = round(float(Parameters.iloc[7]),5)\n",
    "i = round(float(Parameters.iloc[8]),5)\n",
    "j = round(float(Parameters.iloc[9]),5)\n",
    "k = round(float(Parameters.iloc[10]),5)"
   ]
  },
  {
   "cell_type": "code",
   "execution_count": 59,
   "metadata": {},
   "outputs": [
    {
     "name": "stdout",
     "output_type": "stream",
     "text": [
      "The equation is: Salary = 0.0 + 0.0 * Age + 4e-05 * Age^2 + 0.0006 * Age^3 + 0.0073 * Age^4 0.05263 * Age^5 -0.0035 * Age^6 + 0.00011 * Age^7 + -0.0 * Age^8 + 0.0 * Age^9 -0.0 * Age^10\n"
     ]
    }
   ],
   "source": [
    "print(\"The equation is: Salary =\",a,\"+\",b,\"* Age +\",c,\"* Age^2 +\",d,\"* Age^3 +\",e,\"* Age^4\",f,\"* Age^5\",g,\"* Age^6 +\",h,\"* Age^7 +\",i,\"* Age^8 +\",j,\"* Age^9\",k,\"* Age^10\")"
   ]
  },
  {
   "cell_type": "code",
   "execution_count": 60,
   "metadata": {},
   "outputs": [],
   "source": [
    "X10 = df10.loc[: , df10.columns != 'Salary']\n",
    "X10= np.array(X10)\n",
    "lr_model10 = lr.fit(X10,y10)"
   ]
  },
  {
   "cell_type": "markdown",
   "metadata": {},
   "source": [
    "## Prediction"
   ]
  },
  {
   "cell_type": "code",
   "execution_count": 61,
   "metadata": {},
   "outputs": [],
   "source": [
    "y10_pred = lr_model10.predict(X10)"
   ]
  },
  {
   "cell_type": "code",
   "execution_count": 62,
   "metadata": {},
   "outputs": [
    {
     "name": "stderr",
     "output_type": "stream",
     "text": [
      "C:\\ProgramData\\Anaconda3\\lib\\site-packages\\IPython\\core\\interactiveshell.py:3319: RankWarning: Polyfit may be poorly conditioned\n",
      "  exec(code_obj, self.user_global_ns, self.user_ns)\n"
     ]
    },
    {
     "data": {
      "image/png": "[encoded data removed]",
      "text/plain": [
       "<Figure size 432x288 with 1 Axes>"
      ]
     },
     "metadata": {
      "needs_background": "light"
     },
     "output_type": "display_data"
    }
   ],
   "source": [
    "import numpy\n",
    "import matplotlib.pyplot as plt\n",
    "mymodel = numpy.poly1d(numpy.polyfit(df1.Age, df1.Salary, 10))\n",
    "myline = numpy.linspace(25, 65, 100)\n",
    "plt.scatter(df1.Age, df1.Salary, color='blue')\n",
    "plt.plot(myline, mymodel(myline),color='red',linewidth = 3.0)\n",
    "plt.show()"
   ]
  },
  {
   "cell_type": "markdown",
   "metadata": {},
   "source": [
    "## Conclusion"
   ]
  },
  {
   "cell_type": "code",
   "execution_count": 63,
   "metadata": {},
   "outputs": [
    {
     "name": "stdout",
     "output_type": "stream",
     "text": [
      "R squared of polynomial of degree 10: 98.36%\n",
      "RMSE of polynomial of degree 10: 8,920.77\n"
     ]
    }
   ],
   "source": [
    "rsqu10=lr.score(X10,y10)\n",
    "print(\"R squared of polynomial of degree 10:\", \"{:.2%}\".format(rsqu10))\n",
    "rmse10=np.sqrt(mean_squared_error(y10,y10_pred))\n",
    "print(\"RMSE of polynomial of degree 10:\", \"{:,.2f}\".format(rmse10))"
   ]
  },
  {
   "cell_type": "markdown",
   "metadata": {},
   "source": [
    "# Final conclusion"
   ]
  },
  {
   "cell_type": "markdown",
   "metadata": {},
   "source": [
    "## By R squared"
   ]
  },
  {
   "cell_type": "code",
   "execution_count": 64,
   "metadata": {},
   "outputs": [
    {
     "name": "stdout",
     "output_type": "stream",
     "text": [
      "R squared of of Linear Regression: 0.54\n",
      "R squared of polynomial of degree 2: 0.80\n",
      "R squared of polynomial of degree 3: 0.81\n",
      "R squared of polynomial of degree 4: 0.91\n",
      "R squared of polynomial of degree 5: 0.97\n",
      "R squared of polynomial of degree 10: 0.98\n"
     ]
    }
   ],
   "source": [
    "print(\"R squared of of Linear Regression:\", \"{:,.2f}\".format(rsqu1))\n",
    "print(\"R squared of polynomial of degree 2:\", \"{:,.2f}\".format(rsqu2))\n",
    "print(\"R squared of polynomial of degree 3:\", \"{:,.2f}\".format(rsqu3))\n",
    "print(\"R squared of polynomial of degree 4:\", \"{:,.2f}\".format(rsqu4))\n",
    "print(\"R squared of polynomial of degree 5:\", \"{:,.2f}\".format(rsqu5))\n",
    "print(\"R squared of polynomial of degree 10:\", \"{:,.2f}\".format(rsqu10))"
   ]
  },
  {
   "cell_type": "markdown",
   "metadata": {},
   "source": [
    "__Hence polynomial of degree 10 model is selected for the prediction of annual salary using the features__"
   ]
  },
  {
   "cell_type": "markdown",
   "metadata": {
    "collapsed": true
   },
   "source": [
    "## By RMSE score"
   ]
  },
  {
   "cell_type": "code",
   "execution_count": 65,
   "metadata": {},
   "outputs": [
    {
     "name": "stdout",
     "output_type": "stream",
     "text": [
      "RMSE of Linear Regression: 47,179.09\n",
      "RMSE of polynomial of degree 2: 31,242.12\n",
      "RMSE of polynomial of degree 3: 30,346.97\n",
      "RMSE of polynomial of degree 4: 20,704.20\n",
      "RMSE of polynomial of degree 5: 12,240.10\n",
      "RMSE of polynomial of degree 5: 8,920.77\n"
     ]
    }
   ],
   "source": [
    "print(\"RMSE of Linear Regression:\", \"{:,.2f}\".format(rmse1))\n",
    "print(\"RMSE of polynomial of degree 2:\", \"{:,.2f}\".format(rmse2))\n",
    "print(\"RMSE of polynomial of degree 3:\", \"{:,.2f}\".format(rmse3))\n",
    "print(\"RMSE of polynomial of degree 4:\", \"{:,.2f}\".format(rmse4))\n",
    "print(\"RMSE of polynomial of degree 5:\", \"{:,.2f}\".format(rmse5))\n",
    "print(\"RMSE of polynomial of degree 5:\", \"{:,.2f}\".format(rmse10))"
   ]
  },
  {
   "cell_type": "markdown",
   "metadata": {},
   "source": [
    "__Hence polynomial of degree 10 model is selected for the prediction of annual salary using the features__"
   ]
  },
  {
   "cell_type": "markdown",
   "metadata": {},
   "source": [
    "# Real time prediction"
   ]
  },
  {
   "cell_type": "code",
   "execution_count": 66,
   "metadata": {},
   "outputs": [
    {
     "name": "stdout",
     "output_type": "stream",
     "text": [
      "Please enter age:25\n",
      "\u001b[1m The estimated annual salary of that person is : $ \u001b[1m  131,702.00\n"
     ]
    }
   ],
   "source": [
    "a = int(input(\"Please enter age:\"))\n",
    "b, c, d, e, f, g, h, i, j = a**2, a**3, a**4, a**5, a**6, a**7, a**8, a**9, a**10\n",
    "new_data = np.array([a,b,c,d,e,f,g,h,i,j]).reshape(1,-1)\n",
    "new_pred=lr_model10.predict(new_data)\n",
    "print(\"\\033[1m The estimated annual salary of that person is : $ \\033[1m \",\"{:,.2f}\".format(int(new_pred[0])))"
   ]
  }
 ],
 "metadata": {
  "kernelspec": {
   "display_name": "Python 3",
   "language": "python",
   "name": "python3"
  },
  "language_info": {
   "codemirror_mode": {
    "name": "ipython",
    "version": 3
   },
   "file_extension": ".py",
   "mimetype": "text/x-python",
   "name": "python",
   "nbconvert_exporter": "python",
   "pygments_lexer": "ipython3",
   "version": "3.7.6"
  }
 },
 "nbformat": 4,
 "nbformat_minor": 2
}
